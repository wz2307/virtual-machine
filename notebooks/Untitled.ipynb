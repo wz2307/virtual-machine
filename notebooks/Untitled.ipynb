{
 "cells": [
  {
   "cell_type": "code",
   "execution_count": 3,
   "metadata": {
    "collapsed": true
   },
   "outputs": [],
   "source": [
    "class Article:\n",
    "    \n",
    "    index = 0 \n",
    "    title = \"\"\n",
    "    author = \"\"\n",
    "   \n",
    "    def __init__(self, i, raw_text):\n",
    "        self.index = i \n",
    "        lines = raw_text.split(\"|\")\n",
    "        self.title = lines [0].strip()\n",
    "        self.author = lines[1].strip()\n",
    "\n",
    "    def return_title(self):\n",
    "        return self.title\n",
    "    \n",
    "    def return_author(self):\n",
    "        return self.author\n",
    "    \n",
    "    def print_article(self):\n",
    "        return \"{}|{}|{}\".format(self.index, self.title, self.author)"
   ]
  },
  {
   "cell_type": "code",
   "execution_count": 4,
   "metadata": {
    "collapsed": true
   },
   "outputs": [],
   "source": [
    "import pickle\n",
    "\n",
    "filePath_pickle = \"data//data.pkl\" #the file extension doesn't matter\n",
    "\n",
    "with open(filePath_pickle, 'rb') as f: #wb write binaury\n",
    "    articles = pickle.load(f)\n",
    "\n",
    "#dump data \n",
    "#load data "
   ]
  },
  {
   "cell_type": "code",
   "execution_count": null,
   "metadata": {
    "collapsed": true
   },
   "outputs": [],
   "source": []
  }
 ],
 "metadata": {
  "kernelspec": {
   "display_name": "Python 3",
   "language": "python",
   "name": "python3"
  },
  "language_info": {
   "codemirror_mode": {
    "name": "ipython",
    "version": 3
   },
   "file_extension": ".py",
   "mimetype": "text/x-python",
   "name": "python",
   "nbconvert_exporter": "python",
   "pygments_lexer": "ipython3",
   "version": "3.6.1"
  }
 },
 "nbformat": 4,
 "nbformat_minor": 2
}
