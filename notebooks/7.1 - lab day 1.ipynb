{
 "cells": [
  {
   "cell_type": "code",
   "execution_count": 12,
   "metadata": {
    "collapsed": true
   },
   "outputs": [],
   "source": [
    "class Article:\n",
    "    index = 0\n",
    "    title = \"\"\n",
    "    author = \"\"\n",
    "    \n",
    "    # local functions within the objects\n",
    "    # called methods\n",
    "    # just applied to the objects\n",
    "    def __init__(self, i, raw_text): # method names were designed by underline marks or catipal rest words\n",
    "        # __init__ (double underline marks): when calling the class, __init__ functions will be called automatically\n",
    "        self.index = i\n",
    "        lines = raw_text.split(\"|\")\n",
    "        self.title = lines[0].strip() # delete the blank spaces\n",
    "        self.author = lines[1].strip()\n",
    "        \n",
    "    def return_title(self):\n",
    "        return self.title\n",
    "\n",
    "    def return_author(self):\n",
    "        return self.author\n",
    "    \n",
    "    def print_article(self):\n",
    "        # use {} and format() to print out the info ({} is a placehold here)\n",
    "        # return \"(): Title: (), by ()\".format(self.index, self.title, self.author)\n",
    "        return \"{}|{}|{}\".format(self.index,self.title,self.author)\n"
   ]
  },
  {
   "cell_type": "code",
   "execution_count": 13,
   "metadata": {},
   "outputs": [
    {
     "data": {
      "text/plain": [
       "['This is one tile|John Doe\\n', 'This is another title|David Smith']"
      ]
     },
     "execution_count": 13,
     "metadata": {},
     "output_type": "execute_result"
    }
   ],
   "source": [
    "filePath = 'data//text_data.txt'\n",
    "\n",
    "# This is a bad way to open file, this way you need to close the file. This can cause memory leaks.\n",
    "#f = open(filePath, 'r')\n",
    "#data = f.readlines()\n",
    "#f.close()\n",
    "\n",
    "#with defines the structure that creates a context for a variable, this make sure the file is closed \n",
    "with open(filePath,'r') as f:\n",
    "    data = f.readlines()\n",
    "\n",
    "data\n",
    "    "
   ]
  },
  {
   "cell_type": "code",
   "execution_count": 9,
   "metadata": {
    "collapsed": true
   },
   "outputs": [],
   "source": [
    "articles = []\n",
    "\n",
    "for i,d in enumerate(data):\n",
    "    articles.append(Article(i,d))\n",
    "    \n",
    "#article1 = Article(data)"
   ]
  },
  {
   "cell_type": "code",
   "execution_count": 10,
   "metadata": {},
   "outputs": [
    {
     "name": "stdout",
     "output_type": "stream",
     "text": [
      "[<__main__.Article object at 0x7f1aef136278>, <__main__.Article object at 0x7f1aef1362b0>]\n",
      "0|This is one tile|John Doe\n",
      "1|This is another title|David Smith\n"
     ]
    }
   ],
   "source": [
    "print(articles)\n",
    "\n",
    "for article in articles:\n",
    "    print(article.print_article())"
   ]
  },
  {
   "cell_type": "code",
   "execution_count": 11,
   "metadata": {},
   "outputs": [
    {
     "name": "stdout",
     "output_type": "stream",
     "text": [
      "['0|This is one tile|John Doe', '1|This is another title|David Smith']\n",
      "0|This is one tile|John Doe\n",
      "1|This is another title|David Smith\n"
     ]
    }
   ],
   "source": [
    "filePath_writing = \"data//new_data.txt\"\n",
    "\n",
    "#method 1: create one string that combines two strings\n",
    "\n",
    "#data_list = []\n",
    "\n",
    "#for article in articles:\n",
    "#   data_list.append(article.print_article())\n",
    "\n",
    "data_list = [article.print_article() for article in articles]  #this is very python style, pretty clean  \n",
    "print(data_list) \n",
    "    \n",
    "output_data = \"\\n\".join(data_list)\n",
    "\n",
    "print(output_data)\n",
    "\n",
    "#method 2: sequentially writing each one, then loop\n",
    "#method 3: writeline method\n",
    "\n",
    "#w can create and write, or override the file; a is open and appending the file\n",
    "with open(filePath_writing, 'w') as f:\n",
    "    f.write(output_data)\n",
    "   \n",
    "with open(filePath_writing, 'w') as f:\n",
    "    for article in articles:\n",
    "        f.write(article.print_article() + '\\n')\n",
    "        \n",
    "with open(filePath_writing, 'w') as f:\n",
    "    f.writelines(data_list)"
   ]
  },
  {
   "cell_type": "code",
   "execution_count": null,
   "metadata": {
    "collapsed": true
   },
   "outputs": [],
   "source": [
    "import pickle\n",
    "\n",
    "filePath_pickle = \"data//data.pkl\" #the file extension doesn't matter\n",
    "\n",
    "with open(filePath_pickle, 'wb') as f: #wb write binaury\n",
    "    pickle.dump(articles, f)\n",
    "    \n",
    "#dump data \n",
    "#load data "
   ]
  },
  {
   "cell_type": "code",
   "execution_count": null,
   "metadata": {
    "collapsed": true
   },
   "outputs": [],
   "source": []
  },
  {
   "cell_type": "code",
   "execution_count": null,
   "metadata": {
    "collapsed": true
   },
   "outputs": [],
   "source": []
  },
  {
   "cell_type": "code",
   "execution_count": null,
   "metadata": {
    "collapsed": true
   },
   "outputs": [],
   "source": []
  }
 ],
 "metadata": {
  "kernelspec": {
   "display_name": "Python 3",
   "language": "python",
   "name": "python3"
  },
  "language_info": {
   "codemirror_mode": {
    "name": "ipython",
    "version": 3
   },
   "file_extension": ".py",
   "mimetype": "text/x-python",
   "name": "python",
   "nbconvert_exporter": "python",
   "pygments_lexer": "ipython3",
   "version": "3.6.1"
  }
 },
 "nbformat": 4,
 "nbformat_minor": 2
}
