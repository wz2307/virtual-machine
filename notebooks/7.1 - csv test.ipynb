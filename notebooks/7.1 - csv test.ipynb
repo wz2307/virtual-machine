{
 "cells": [
  {
   "cell_type": "code",
   "execution_count": 126,
   "metadata": {},
   "outputs": [],
   "source": [
    "# import csv\n",
    "\n",
    "# filePath = 'data//csv.csv'\n",
    "\n",
    "# with open(filePath, 'rb') as f:\n",
    "#     data = f.read()\n",
    "#     data = data.decode('utf-8')\n",
    "#     reader = csv.reader(data, delimiter=',', quotechar='|')\n",
    "    \n",
    "# print(data)\n",
    "    \n",
    "#     for row in reader:\n",
    "#          print(''.join(row))\n",
    "    "
   ]
  },
  {
   "cell_type": "code",
   "execution_count": 134,
   "metadata": {},
   "outputs": [],
   "source": [
    "with open(filePath,'rb') as f:\n",
    "    data = f.read()\n",
    "    data = data.decode('utf-8')\n",
    "\n",
    "class Article:\n",
    "    index = 0\n",
    "    title = \"\"\n",
    "    href = \"\"\n",
    "    english = \"\"\n",
    "    author = \"\"\n",
    "    publisher = \"\"\n",
    "    year = \"\"\n",
    "    abstract = \"\"\n",
    "    references = \"\"\n",
    "    citedby = \"\"\n",
    "    \n",
    "    def __init__(self, i, lines): \n",
    "        self.index = i\n",
    "        lines = raw_text.split(\",\")\n",
    "        self.title = lines[0].strip() # delete the blank spaces\n",
    "        self.href = lines[1].strip()\n",
    "        self.english = lines[2].strip()\n",
    "        self.author = lines[3].strip()\n",
    "        self.publisher = lines[4].strip()\n",
    "        self.year = lines[5].strip()\n",
    "        self.abstract = lines[6].strip()\n",
    "        self.references = lines[7].strip()\n",
    "        self.citedby = lines[8].strip()\n",
    "        \n",
    "        \n",
    "    def return_title(self):\n",
    "        return self.title\n",
    "    \n",
    "    def return_href(self):\n",
    "        return self.href\n",
    "    \n",
    "    def return_english(self):\n",
    "        return self.english\n",
    "    \n",
    "    def return_author(self):\n",
    "        return self.author\n",
    "    \n",
    "    def return_publisher(self):\n",
    "        return self.publisher\n",
    "    \n",
    "    def return_year(self):\n",
    "        return self.year\n",
    "    \n",
    "    def return_abstract(self):\n",
    "        return self.abstract\n",
    "    \n",
    "    def return_references(self):\n",
    "        return self.references\n",
    "    \n",
    "    def return_citedby(self):\n",
    "        return self.citedby\n",
    "        \n",
    "    def print_article(self):\n",
    "        # use {} and format() to print out the info ({} is a placehold here)\n",
    "        # return \"(): Title: (), by ()\".format(self.index, self.title, self.author)\n",
    "        return \"{}|{}|{}|{}|{}|{}|{}|{}|{}|{}\".format(self.index, self.title,self.href,self.english,self.author,self.publisher,self.year,self.abstract,self.references,self.citedby)\n"
   ]
  },
  {
   "cell_type": "code",
   "execution_count": 122,
   "metadata": {},
   "outputs": [
    {
     "ename": "IndexError",
     "evalue": "string index out of range",
     "output_type": "error",
     "traceback": [
      "\u001b[0;31m---------------------------------------------------------------------------\u001b[0m",
      "\u001b[0;31mIndexError\u001b[0m                                Traceback (most recent call last)",
      "\u001b[0;32m<ipython-input-122-24b7507a2e52>\u001b[0m in \u001b[0;36m<module>\u001b[0;34m()\u001b[0m\n\u001b[1;32m      2\u001b[0m \u001b[0;34m\u001b[0m\u001b[0m\n\u001b[1;32m      3\u001b[0m \u001b[0;32mfor\u001b[0m \u001b[0mi\u001b[0m\u001b[0;34m,\u001b[0m\u001b[0md\u001b[0m \u001b[0;32min\u001b[0m \u001b[0menumerate\u001b[0m\u001b[0;34m(\u001b[0m\u001b[0mdata\u001b[0m\u001b[0;34m)\u001b[0m\u001b[0;34m:\u001b[0m\u001b[0;34m\u001b[0m\u001b[0m\n\u001b[0;32m----> 4\u001b[0;31m     \u001b[0marticles\u001b[0m\u001b[0;34m.\u001b[0m\u001b[0mappend\u001b[0m\u001b[0;34m(\u001b[0m\u001b[0mArticle\u001b[0m\u001b[0;34m(\u001b[0m\u001b[0mi\u001b[0m\u001b[0;34m,\u001b[0m\u001b[0md\u001b[0m\u001b[0;34m)\u001b[0m\u001b[0;34m)\u001b[0m\u001b[0;34m\u001b[0m\u001b[0m\n\u001b[0m\u001b[1;32m      5\u001b[0m \u001b[0;34m\u001b[0m\u001b[0m\n\u001b[1;32m      6\u001b[0m \u001b[0;31m#article1 = Article(data)\u001b[0m\u001b[0;34m\u001b[0m\u001b[0;34m\u001b[0m\u001b[0m\n",
      "\u001b[0;32m<ipython-input-121-91ec8f4feaf9>\u001b[0m in \u001b[0;36m__init__\u001b[0;34m(self, i, lines)\u001b[0m\n\u001b[1;32m     24\u001b[0m         \u001b[0;31m#lines = raw_text.split(\"|\")\u001b[0m\u001b[0;34m\u001b[0m\u001b[0;34m\u001b[0m\u001b[0m\n\u001b[1;32m     25\u001b[0m         \u001b[0mself\u001b[0m\u001b[0;34m.\u001b[0m\u001b[0mtitle\u001b[0m \u001b[0;34m=\u001b[0m \u001b[0mlines\u001b[0m\u001b[0;34m[\u001b[0m\u001b[0;36m0\u001b[0m\u001b[0;34m]\u001b[0m\u001b[0;34m.\u001b[0m\u001b[0mstrip\u001b[0m\u001b[0;34m(\u001b[0m\u001b[0;34m)\u001b[0m \u001b[0;31m# delete the blank spaces\u001b[0m\u001b[0;34m\u001b[0m\u001b[0m\n\u001b[0;32m---> 26\u001b[0;31m         \u001b[0mself\u001b[0m\u001b[0;34m.\u001b[0m\u001b[0mhref\u001b[0m \u001b[0;34m=\u001b[0m \u001b[0mlines\u001b[0m\u001b[0;34m[\u001b[0m\u001b[0;36m1\u001b[0m\u001b[0;34m]\u001b[0m\u001b[0;34m.\u001b[0m\u001b[0mstrip\u001b[0m\u001b[0;34m(\u001b[0m\u001b[0;34m)\u001b[0m\u001b[0;34m\u001b[0m\u001b[0m\n\u001b[0m\u001b[1;32m     27\u001b[0m         \u001b[0mself\u001b[0m\u001b[0;34m.\u001b[0m\u001b[0menglish\u001b[0m \u001b[0;34m=\u001b[0m \u001b[0mlines\u001b[0m\u001b[0;34m[\u001b[0m\u001b[0;36m2\u001b[0m\u001b[0;34m]\u001b[0m\u001b[0;34m.\u001b[0m\u001b[0mstrip\u001b[0m\u001b[0;34m(\u001b[0m\u001b[0;34m)\u001b[0m\u001b[0;34m\u001b[0m\u001b[0m\n\u001b[1;32m     28\u001b[0m         \u001b[0mself\u001b[0m\u001b[0;34m.\u001b[0m\u001b[0mauthor\u001b[0m \u001b[0;34m=\u001b[0m \u001b[0mlines\u001b[0m\u001b[0;34m[\u001b[0m\u001b[0;36m3\u001b[0m\u001b[0;34m]\u001b[0m\u001b[0;34m.\u001b[0m\u001b[0mstrip\u001b[0m\u001b[0;34m(\u001b[0m\u001b[0;34m)\u001b[0m\u001b[0;34m\u001b[0m\u001b[0m\n",
      "\u001b[0;31mIndexError\u001b[0m: string index out of range"
     ]
    }
   ],
   "source": [
    "articles = []\n",
    "\n",
    "for i,d in enumerate(data):\n",
    "    articles.append(Article(i,d))\n",
    "    \n",
    "#article1 = Article(data)"
   ]
  },
  {
   "cell_type": "code",
   "execution_count": null,
   "metadata": {},
   "outputs": [],
   "source": [
    "print(articles)\n",
    "\n",
    "for article in articles:\n",
    "    print(article.print_article())"
   ]
  },
  {
   "cell_type": "markdown",
   "metadata": {
    "collapsed": true
   },
   "source": [
    "filePath_writing = \"data//new_data.txt\"\n",
    "\n",
    "#method 1: create one string that combines two strings\n",
    "\n",
    "#data_list = []\n",
    "\n",
    "#for article in articles:\n",
    "#   data_list.append(article.print_article())\n",
    "\n",
    "data_list = [article.print_article() for article in articles]  #this is very python style, pretty clean  \n",
    "print(data_list) \n",
    "    \n",
    "output_data = \"\\n\".join(data_list)\n",
    "\n",
    "print(output_data)\n",
    "\n",
    "#method 2: sequentially writing each one, then loop\n",
    "#method 3: writeline method\n",
    "\n",
    "#w can create and write, or override the file; a is open and appending the file\n",
    "with open(filePath_writing, 'w') as f:\n",
    "    f.write(output_data)\n",
    "   \n",
    "with open(filePath_writing, 'w') as f:\n",
    "    for article in articles:\n",
    "        f.write(article.print_article() + '\\n')\n",
    "        \n",
    "with open(filePath_writing, 'w') as f:\n",
    "    f.writelines(data_list)"
   ]
  },
  {
   "cell_type": "markdown",
   "metadata": {
    "collapsed": true
   },
   "source": [
    "import pickle\n",
    "\n",
    "filePath_pickle = \"data//data.pkl\" #the file extension doesn't matter\n",
    "\n",
    "with open(filePath_pickle, 'wb') as f: #wb write binaury\n",
    "    pickle.dump(articles, f)\n",
    "    \n",
    "#dump data \n",
    "#load data "
   ]
  },
  {
   "cell_type": "code",
   "execution_count": 133,
   "metadata": {},
   "outputs": [
    {
     "ename": "IndentationError",
     "evalue": "unindent does not match any outer indentation level (<tokenize>, line 11)",
     "output_type": "error",
     "traceback": [
      "\u001b[0;36m  File \u001b[0;32m\"<tokenize>\"\u001b[0;36m, line \u001b[0;32m11\u001b[0m\n\u001b[0;31m    def __init__(self, i, lines):\u001b[0m\n\u001b[0m    ^\u001b[0m\n\u001b[0;31mIndentationError\u001b[0m\u001b[0;31m:\u001b[0m unindent does not match any outer indentation level\n"
     ]
    }
   ],
   "source": [
    "import csv\n",
    "\n",
    "filePath = 'data//fun.csv'\n",
    "\n",
    "with open(filePath, newline='') as csvfile:\n",
    "    spamreader = csv.reader(csvfile, delimiter=',', quotechar='|')\n",
    "    for row in spamreader:\n",
    "        print(row)\n",
    "#         print('|'.join(row))\n"
   ]
  },
  {
   "cell_type": "code",
   "execution_count": null,
   "metadata": {},
   "outputs": [],
   "source": []
  },
  {
   "cell_type": "code",
   "execution_count": null,
   "metadata": {
    "collapsed": true
   },
   "outputs": [],
   "source": []
  },
  {
   "cell_type": "code",
   "execution_count": null,
   "metadata": {
    "collapsed": true
   },
   "outputs": [],
   "source": []
  }
 ],
 "metadata": {
  "kernelspec": {
   "display_name": "Python 3",
   "language": "python",
   "name": "python3"
  },
  "language_info": {
   "codemirror_mode": {
    "name": "ipython",
    "version": 3
   },
   "file_extension": ".py",
   "mimetype": "text/x-python",
   "name": "python",
   "nbconvert_exporter": "python",
   "pygments_lexer": "ipython3",
   "version": "3.6.1"
  }
 },
 "nbformat": 4,
 "nbformat_minor": 2
}
