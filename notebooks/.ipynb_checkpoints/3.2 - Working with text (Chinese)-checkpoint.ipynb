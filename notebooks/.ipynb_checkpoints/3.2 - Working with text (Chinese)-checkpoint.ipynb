{
 "cells": [
  {
   "cell_type": "markdown",
   "metadata": {},
   "source": [
    "# 3.2 - Working with text (Chinese)\n",
    "\n",
    "Here we adapt the examples from the previous exercise to Chinese text. The major difference in this case is that Chinese is typically written without spaces between words, making it impossible to break up into words in a neive way (we will address this with a special library in exercise 4.2). However, we can still make some progress just by breaking up into characters and finding the most common ones. Chinese text also uses a different set of special characters and punctuation which we need to consider."
   ]
  },
  {
   "cell_type": "code",
   "execution_count": 7,
   "metadata": {
    "collapsed": true
   },
   "outputs": [],
   "source": [
    "import re"
   ]
  },
  {
   "cell_type": "code",
   "execution_count": 8,
   "metadata": {},
   "outputs": [
    {
     "name": "stdout",
     "output_type": "stream",
     "text": [
      "length of text: 757732\n"
     ]
    }
   ],
   "source": [
    "filename = \"data/journey.txt\"\n",
    "\n",
    "with open(filename,'rb') as f:\n",
    "    data = f.read()\n",
    "    raw_text = data.decode('utf-8')\n",
    "\n",
    "# raw_text = open(filename).read()\n",
    "\n",
    "n_chars = len(raw_text)\n",
    "print(\"length of text:\", n_chars)"
   ]
  },
  {
   "cell_type": "code",
   "execution_count": 9,
   "metadata": {},
   "outputs": [
    {
     "name": "stdout",
     "output_type": "stream",
     "text": [
      "number of paragraphs: 25876\n",
      "number of characters: 593579\n"
     ]
    }
   ],
   "source": [
    "paragraphs = raw_text.split('\\n')\n",
    "paragraphs = [p for p in paragraphs if len(p) > 0]\n",
    "print(\"number of paragraphs:\", len(paragraphs))\n",
    "\n",
    "characters = []\n",
    "for p in paragraphs:\n",
    "    characters += re.sub('[，,。,：,﹔,《,》,」,「,一,　]', '', p)\n",
    "print(\"number of characters:\", len(characters))"
   ]
  },
  {
   "cell_type": "code",
   "execution_count": 10,
   "metadata": {},
   "outputs": [
    {
     "name": "stdout",
     "output_type": "stream",
     "text": [
      "('道', 11079)\n",
      "most common characters: ['道', '不', '了', '那', '我', '是', '來', '他', '個', '行']\n",
      "unique characters: 4560\n"
     ]
    }
   ],
   "source": [
    "# https://docs.python.org/3/library/collections.html#counter-objects\n",
    "import collections\n",
    "\n",
    "charSet = collections.Counter(characters)\n",
    "common = charSet.most_common(10)\n",
    "print(common[0])\n",
    "print(\"most common characters:\", [c[0] for c in common])\n",
    "\n",
    "uniqueChars = list(charSet)\n",
    "print(\"unique characters:\", len(uniqueChars))"
   ]
  },
  {
   "cell_type": "code",
   "execution_count": null,
   "metadata": {
    "collapsed": true
   },
   "outputs": [],
   "source": []
  }
 ],
 "metadata": {
  "kernelspec": {
   "display_name": "Python 3",
   "language": "python",
   "name": "python3"
  },
  "language_info": {
   "codemirror_mode": {
    "name": "ipython",
    "version": 3
   },
   "file_extension": ".py",
   "mimetype": "text/x-python",
   "name": "python",
   "nbconvert_exporter": "python",
   "pygments_lexer": "ipython3",
   "version": "3.6.1"
  }
 },
 "nbformat": 4,
 "nbformat_minor": 2
}
