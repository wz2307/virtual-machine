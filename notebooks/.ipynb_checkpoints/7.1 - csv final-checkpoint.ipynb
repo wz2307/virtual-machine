{
 "cells": [
  {
   "cell_type": "code",
   "execution_count": 256,
   "metadata": {},
   "outputs": [],
   "source": [
    "import csv\n",
    "\n",
    "filePath = 'data//wanfang.csv'\n",
    "\n",
    "data = []\n",
    "\n",
    "with open(filePath, 'r', encoding='utf-8') as f:\n",
    "    reader = csv.reader(f, dialect='excel', delimiter=',', quotechar='\"')\n",
    "    \n",
    "    for row in reader:\n",
    "        data.append(row)\n",
    "\n",
    "# print(data)\n",
    "# print(data[4])\n"
   ]
  },
  {
   "cell_type": "code",
   "execution_count": 257,
   "metadata": {
    "collapsed": true
   },
   "outputs": [],
   "source": [
    "class Article:\n",
    "    index = 0\n",
    "    title = \"\"\n",
    "    href = \"\"\n",
    "    english = \"\"\n",
    "    author = \"\"\n",
    "    publisher = \"\"\n",
    "    year = \"\"\n",
    "    abstract = \"\"\n",
    "    references = \"\"\n",
    "    citedby = \"\"\n",
    "    \n",
    "    def __init__(self, i, raw_text): \n",
    "        self.index = i\n",
    "        lines = raw_text #.split(\"|\")\n",
    "        self.title = lines[0].strip() # delete the blank spaces\n",
    "        self.href = lines[1].strip()\n",
    "        self.english = lines[2].strip()\n",
    "        self.author = lines[3].strip()\n",
    "        self.publisher = lines[4].strip()\n",
    "        self.year = lines[5].strip()\n",
    "        self.abstract = lines[6].strip()\n",
    "        self.references = lines[7].strip()\n",
    "        self.citedby = lines[8].strip()\n",
    "        \n",
    "    def return_title(self):\n",
    "        return self.title\n",
    "    \n",
    "    def return_href(self):\n",
    "        return self.href\n",
    "    \n",
    "    def return_english(self):\n",
    "        return self.english\n",
    "    \n",
    "    def return_author(self):\n",
    "        return self.author\n",
    "    \n",
    "    def return_publisher(self):\n",
    "        return self.publisher\n",
    "    \n",
    "    def return_year(self):\n",
    "        return self.year\n",
    "    \n",
    "    def return_abstract(self):\n",
    "        return self.abstract\n",
    "    \n",
    "    def return_references(self):\n",
    "        return self.references\n",
    "    \n",
    "    def return_citedby(self):\n",
    "        return self.citedby\n",
    "        \n",
    "    def print_article(self):\n",
    "        # use {} and format() to print out the info ({} is a placehold here)\n",
    "        # return \"(): Title: (), by ()\".format(self.index, self.title, self.author)\n",
    "        return \"{}|{}|{}|{}|{}|{}|{}|{}|{}|{}\".format(self.index,self.title,self.href,self.english,self.author,self.publisher,self.year,self.abstract,self.references,self.citedby)\n"
   ]
  },
  {
   "cell_type": "code",
   "execution_count": 258,
   "metadata": {},
   "outputs": [],
   "source": [
    "articles = []\n",
    "\n",
    "for i,d in enumerate(data):\n",
    "    articles.append(Article(i,d))\n",
    "    \n",
    "#article1 = Article(data)"
   ]
  },
  {
   "cell_type": "code",
   "execution_count": 272,
   "metadata": {},
   "outputs": [
    {
     "ename": "SyntaxError",
     "evalue": "unexpected EOF while parsing (<ipython-input-272-60528c38c9f3>, line 4)",
     "output_type": "error",
     "traceback": [
      "\u001b[0;36m  File \u001b[0;32m\"<ipython-input-272-60528c38c9f3>\"\u001b[0;36m, line \u001b[0;32m4\u001b[0m\n\u001b[0;31m    #     print(article.print_article())\u001b[0m\n\u001b[0m                                        ^\u001b[0m\n\u001b[0;31mSyntaxError\u001b[0m\u001b[0;31m:\u001b[0m unexpected EOF while parsing\n"
     ]
    }
   ],
   "source": [
    "# print(articles)\n",
    "\n",
    "for article in articles:\n",
    "#     print(article.print_article())"
   ]
  },
  {
   "cell_type": "code",
   "execution_count": 287,
   "metadata": {},
   "outputs": [
    {
     "name": "stdout",
     "output_type": "stream",
     "text": [
      "280\n"
     ]
    }
   ],
   "source": [
    "filePath_writing = \"data//new_data.txt\"\n",
    "\n",
    "#method 1: create one string that combines two strings\n",
    "#data_list = []\n",
    "\n",
    "#for article in articles:\n",
    "#   data_list.append(article.print_article())\n",
    "\n",
    "data_list = [article.print_article() for article in articles]  #this is very python style, pretty clean  \n",
    "# print(data_list)\n",
    "print(len(data_list))\n",
    "    \n",
    "output_data = \"\\n\".join(data_list)\n",
    "\n",
    "# print(output_data)\n",
    "\n",
    "#method 2: sequentially writing each one, then loop\n",
    "#method 3: writeline method\n",
    "\n",
    "#w can create and write, or override the file; a is open and appending the file\n",
    "with open(filePath_writing, 'w', encoding = 'utf-8') as f:\n",
    "    f.write(output_data)\n",
    "   \n",
    "# with open(filePath_writing, 'w') as f:\n",
    "#     for article in articles:\n",
    "#         f.write(article.print_article() + '\\n')\n",
    "        \n",
    "# with open(filePath_writing, 'w') as f:\n",
    "#     f.writelines(data_list)"
   ]
  },
  {
   "cell_type": "code",
   "execution_count": 295,
   "metadata": {},
   "outputs": [
    {
     "data": {
      "text/plain": [
       "'深圳市城中村商业由市场自发形成，满足了村内甚至村外居民不同层次的消费需求，是对市场的一个有效补充，市场发育所处的阶段不同，会呈现不同的特征，产生不同的问题。本文通过对深圳市特区内三个主要城区的多个城中村商业进行调研分析，在对城中村商业的形成与发展机制进行解读的基础上，分析了其现阶段发展存在的问题，并提出了相应的策略建议。'"
      ]
     },
     "execution_count": 295,
     "metadata": {},
     "output_type": "execute_result"
    }
   ],
   "source": [
    "import pickle\n",
    "\n",
    "filePath_pickle = \"data//data.pkl\" #the file extension doesn't matter\n",
    "\n",
    "with open(filePath_pickle, 'wb') as f: #wb write binaury\n",
    "    pickle.dump(articles, f)\n",
    "    \n",
    "#dump data \n",
    "with open(filePath_pickle, 'rb') as f:\n",
    "    articles = pickle.load(f)\n",
    "\n",
    "articles[1].return_abstract()\n"
   ]
  },
  {
   "cell_type": "code",
   "execution_count": null,
   "metadata": {
    "collapsed": true
   },
   "outputs": [],
   "source": []
  }
 ],
 "metadata": {
  "kernelspec": {
   "display_name": "Python 3",
   "language": "python",
   "name": "python3"
  },
  "language_info": {
   "codemirror_mode": {
    "name": "ipython",
    "version": 3
   },
   "file_extension": ".py",
   "mimetype": "text/x-python",
   "name": "python",
   "nbconvert_exporter": "python",
   "pygments_lexer": "ipython3",
   "version": "3.6.1"
  }
 },
 "nbformat": 4,
 "nbformat_minor": 2
}
