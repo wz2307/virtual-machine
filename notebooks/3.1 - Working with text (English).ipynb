{
 "cells": [
  {
   "cell_type": "markdown",
   "metadata": {},
   "source": [
    "# 3.1 - Working with text\n",
    "\n",
    "These examples show how we can use Python to load text from a file and use code to split it into paragraphs, sentances, and words. In Python, text is represented in the `string` format which is basically a list of character objects. We can use special Python libraries such as `re` to work with string objects. We can also use Python's `collections` library to find unique words and characters and count their occurances in a piece of text."
   ]
  },
  {
   "cell_type": "code",
   "execution_count": 8,
   "metadata": {
    "collapsed": true
   },
   "outputs": [],
   "source": [
    "# first we import the 're' library which allows us to work with and format string objects in different ways\n",
    "import re"
   ]
  },
  {
   "cell_type": "code",
   "execution_count": 9,
   "metadata": {},
   "outputs": [
    {
     "name": "stdout",
     "output_type": "stream",
     "text": [
      "length of text: 141240\n"
     ]
    }
   ],
   "source": [
    "filename = \"data/wonderland.txt\"\n",
    "\n",
    "with open(filename,'rb') as f:\n",
    "    data = f.read()\n",
    "    raw_text = data.decode('utf-8')\n",
    "\n",
    "# get rid of any characters other than letters, numbers, \n",
    "# and a few special characters\n",
    "raw_text = re.sub('[^\\nA-Za-z0-9 ,.:;?!-]+', '', raw_text)\n",
    "\n",
    "n_chars = len(raw_text)\n",
    "print(\"length of text:\", n_chars)"
   ]
  },
  {
   "cell_type": "code",
   "execution_count": 10,
   "metadata": {},
   "outputs": [
    {
     "name": "stdout",
     "output_type": "stream",
     "text": [
      "number of paragraphs: 2480\n",
      "number of words: 27514\n",
      "number of letters: 107715\n"
     ]
    }
   ],
   "source": [
    "paragraphs = raw_text.split('\\n')\n",
    "paragraphs = [p for p in paragraphs if len(p) > 0]\n",
    "print(\"number of paragraphs:\", len(paragraphs))\n",
    "\n",
    "words = []\n",
    "for p in paragraphs:\n",
    "    words += re.sub('[^A-Za-z ]+', '', p).split(\" \")\n",
    "print(\"number of words:\", len(words))\n",
    "\n",
    "letters = []\n",
    "for w in words:\n",
    "    letters += w\n",
    "print(\"number of letters:\", len(letters))"
   ]
  },
  {
   "cell_type": "code",
   "execution_count": 11,
   "metadata": {},
   "outputs": [
    {
     "name": "stdout",
     "output_type": "stream",
     "text": [
      "most common words: [('the', 1515), ('', 1128), ('and', 774), ('to', 717), ('a', 610), ('she', 498), ('of', 494), ('it', 482), ('said', 456), ('I', 400)]\n",
      "unique words: 3151\n",
      "most common letters: [('e', 13388), ('t', 10217), ('a', 8153), ('o', 7969), ('h', 7091), ('n', 6896), ('i', 6782), ('s', 6283), ('r', 5298), ('d', 4739)]\n"
     ]
    }
   ],
   "source": [
    "# here we import the 'collections' library which allows us to count unique objects in a list of data\n",
    "# https://docs.python.org/3/library/collections.html#counter-objects\n",
    "import collections\n",
    "\n",
    "wordSet = collections.Counter(words)\n",
    "print(\"most common words:\", wordSet.most_common(10))\n",
    "\n",
    "uniqueWords = list(wordSet)\n",
    "print(\"unique words:\", len(uniqueWords))\n",
    "\n",
    "letterSet = collections.Counter(letters)\n",
    "print(\"most common letters:\", letterSet.most_common(10))"
   ]
  },
  {
   "cell_type": "code",
   "execution_count": null,
   "metadata": {
    "collapsed": true
   },
   "outputs": [],
   "source": []
  }
 ],
 "metadata": {
  "kernelspec": {
   "display_name": "Python 3",
   "language": "python",
   "name": "python3"
  },
  "language_info": {
   "codemirror_mode": {
    "name": "ipython",
    "version": 3
   },
   "file_extension": ".py",
   "mimetype": "text/x-python",
   "name": "python",
   "nbconvert_exporter": "python",
   "pygments_lexer": "ipython3",
   "version": "3.6.1"
  }
 },
 "nbformat": 4,
 "nbformat_minor": 2
}
