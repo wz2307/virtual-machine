{
 "cells": [
  {
   "cell_type": "code",
   "execution_count": 4,
   "metadata": {
    "collapsed": true
   },
   "outputs": [],
   "source": []
  },
  {
   "cell_type": "code",
   "execution_count": 42,
   "metadata": {},
   "outputs": [
    {
     "name": "stdout",
     "output_type": "stream",
     "text": [
      "Article,Article-href,English Title,Author,Publisher,Year,Abstract,References,Cited By\r\n",
      "深圳市城中村商业发展存在的问题与策略研究,http://d.g.wanfangdata.com.cn/Periodical_xdcsyj201701018.aspx,Research on the Problems and Strategies of the Commercial Development of Villages-in-City in Shenzhen,null,现代城市研究,null,深圳市城中村商业由市场自发形成，满足了村内甚至村外居民不同层次的消费需求，是对市场的一个有效补充，市场发育所处的阶段不同，会呈现不同的特征，产生不同的问题。本文通过对深圳市特区内三个主要城区的多个城中村商业进行调研分析，在对城中村商业的形成与发展机制进行解读的基础上，分析了其现阶段发展存在的问题，并提出了相应的策略建议。,\"陶然,Tao Ran.\n",
      "        城中村作为低成本生活区的价值思考——以深圳大冲村为例[J].内蒙古农业大学学报（社会科学版） 2011.doi:10.3969/j.issn.1009-4458.2011.01.102\n",
      "    \n",
      "    \n",
      "        魏立华,闫小培,WEI Lihua,YAN Xiaopei.\n",
      "        城中村:存续前提下的转型--兼论城中村改造的可行性模式[J].城市规划 2005.doi:10.3321/j.issn:1002-1329.2005.07.002\n",
      "    \n",
      "    \n",
      "        胡乃彦.\n",
      "        [C]. 2011.\n",
      "    \n",
      "    \n",
      "        陈燕萍,张艳,金鑫,胡乃彦,CHEN Yanping,ZHANG Yan,JIN Xin,HU Naiyan.\n",
      "        低生活成本住区商业服务设施配置实证分析与探讨——基于对深圳市上下沙村的调研[J].城市规划学刊 2012.doi:10.3969/j.issn.1000-3363.2012.06.009\n",
      "    \n",
      "    \n",
      "        肖作鹏,王小琦,李凯.\n",
      "        [C]. 2011.\n",
      "    \n",
      "    \n",
      "        张京祥,赵伟,ZHANG Jingxiang,ZHAO Wei.\n",
      "        二元规制环境中城中村发展及其意义的分析[J].城市规划 2007.doi:10.3321/j.issn:1002-1329.2007.01.009\n",
      "    \n",
      "    \n",
      "        张立民.\n",
      "        深圳市福田区城中村研究[D].同济大学建筑与城市规划学院 2005.\n",
      "    \n",
      "    \n",
      "        朱荣远,张立民,郭旭东,ZHU Rongyuan,ZHANG Limin,GUO Xudong.\n",
      "        表情复杂的中国城市化附生物——城中村——有关深圳市城中村调查研究的启示[J].城市规划 2006.doi:10.3321/j.issn:1002-1329.2006.09.018\n",
      "    \n",
      "    \n",
      "        薛德升,黄耿志.\n",
      "        管制之外的管制：城中村非正规部门的空间集聚与生存状态--以广州市下渡村为例[J]. 2008.\n",
      "    \n",
      "    \n",
      "        \n",
      "        移民聚居空间的自组织特征及价值--以杭州市城西城中村为例[J]. 2011.\",null\n"
     ]
    }
   ],
   "source": [
    "filePath = 'data//csv.csv'\n",
    "\n",
    "with open(filePath,'rb') as f:\n",
    "    data = f.read()\n",
    "    data = data.decode('utf-8')\n",
    "\n",
    "print(data)\n",
    "    \n",
    "class Article:\n",
    "    index = 0\n",
    "    title = \"\"\n",
    "    href = \"\"\n",
    "    \n",
    "    def __init__(self, i, lines): \n",
    "        self.index = i\n",
    "#         lines = raw_text.split()\n",
    "        self.title = lines[0].strip() # delete the blank spaces\n",
    "        self.href = lines[1].strip()\n",
    "        \n",
    "    def return_title(self):\n",
    "        return self.title\n",
    "    \n",
    "#     def return_href(self):\n",
    "#         return self.href\n",
    "    \n",
    "    def print_article(self):\n",
    "        return \"{}|{}\".format(self.index,self.title)\n"
   ]
  },
  {
   "cell_type": "code",
   "execution_count": 43,
   "metadata": {},
   "outputs": [
    {
     "ename": "IndexError",
     "evalue": "string index out of range",
     "output_type": "error",
     "traceback": [
      "\u001b[0;31m---------------------------------------------------------------------------\u001b[0m",
      "\u001b[0;31mIndexError\u001b[0m                                Traceback (most recent call last)",
      "\u001b[0;32m<ipython-input-43-24b7507a2e52>\u001b[0m in \u001b[0;36m<module>\u001b[0;34m()\u001b[0m\n\u001b[1;32m      2\u001b[0m \u001b[0;34m\u001b[0m\u001b[0m\n\u001b[1;32m      3\u001b[0m \u001b[0;32mfor\u001b[0m \u001b[0mi\u001b[0m\u001b[0;34m,\u001b[0m\u001b[0md\u001b[0m \u001b[0;32min\u001b[0m \u001b[0menumerate\u001b[0m\u001b[0;34m(\u001b[0m\u001b[0mdata\u001b[0m\u001b[0;34m)\u001b[0m\u001b[0;34m:\u001b[0m\u001b[0;34m\u001b[0m\u001b[0m\n\u001b[0;32m----> 4\u001b[0;31m     \u001b[0marticles\u001b[0m\u001b[0;34m.\u001b[0m\u001b[0mappend\u001b[0m\u001b[0;34m(\u001b[0m\u001b[0mArticle\u001b[0m\u001b[0;34m(\u001b[0m\u001b[0mi\u001b[0m\u001b[0;34m,\u001b[0m\u001b[0md\u001b[0m\u001b[0;34m)\u001b[0m\u001b[0;34m)\u001b[0m\u001b[0;34m\u001b[0m\u001b[0m\n\u001b[0m\u001b[1;32m      5\u001b[0m \u001b[0;34m\u001b[0m\u001b[0m\n\u001b[1;32m      6\u001b[0m \u001b[0;31m#article1 = Article(data)\u001b[0m\u001b[0;34m\u001b[0m\u001b[0;34m\u001b[0m\u001b[0m\n",
      "\u001b[0;32m<ipython-input-42-ceb082ffeeb8>\u001b[0m in \u001b[0;36m__init__\u001b[0;34m(self, i, lines)\u001b[0m\n\u001b[1;32m     16\u001b[0m \u001b[0;31m#         lines = raw_text.split()\u001b[0m\u001b[0;34m\u001b[0m\u001b[0;34m\u001b[0m\u001b[0m\n\u001b[1;32m     17\u001b[0m         \u001b[0mself\u001b[0m\u001b[0;34m.\u001b[0m\u001b[0mtitle\u001b[0m \u001b[0;34m=\u001b[0m \u001b[0mlines\u001b[0m\u001b[0;34m[\u001b[0m\u001b[0;36m0\u001b[0m\u001b[0;34m]\u001b[0m\u001b[0;34m.\u001b[0m\u001b[0mstrip\u001b[0m\u001b[0;34m(\u001b[0m\u001b[0;34m)\u001b[0m \u001b[0;31m# delete the blank spaces\u001b[0m\u001b[0;34m\u001b[0m\u001b[0m\n\u001b[0;32m---> 18\u001b[0;31m         \u001b[0mself\u001b[0m\u001b[0;34m.\u001b[0m\u001b[0mhref\u001b[0m \u001b[0;34m=\u001b[0m \u001b[0mlines\u001b[0m\u001b[0;34m[\u001b[0m\u001b[0;36m1\u001b[0m\u001b[0;34m]\u001b[0m\u001b[0;34m.\u001b[0m\u001b[0mstrip\u001b[0m\u001b[0;34m(\u001b[0m\u001b[0;34m)\u001b[0m\u001b[0;34m\u001b[0m\u001b[0m\n\u001b[0m\u001b[1;32m     19\u001b[0m \u001b[0;34m\u001b[0m\u001b[0m\n\u001b[1;32m     20\u001b[0m     \u001b[0;32mdef\u001b[0m \u001b[0mreturn_title\u001b[0m\u001b[0;34m(\u001b[0m\u001b[0mself\u001b[0m\u001b[0;34m)\u001b[0m\u001b[0;34m:\u001b[0m\u001b[0;34m\u001b[0m\u001b[0m\n",
      "\u001b[0;31mIndexError\u001b[0m: string index out of range"
     ]
    }
   ],
   "source": [
    "articles = []\n",
    "\n",
    "for i,d in enumerate(data):\n",
    "    articles.append(Article(i,d))\n",
    "    \n",
    "#article1 = Article(data)"
   ]
  },
  {
   "cell_type": "code",
   "execution_count": 44,
   "metadata": {},
   "outputs": [
    {
     "name": "stdout",
     "output_type": "stream",
     "text": [
      "[]\n"
     ]
    }
   ],
   "source": [
    "print(articles)\n",
    "\n",
    "for article in articles:\n",
    "    print(article.print_article())"
   ]
  },
  {
   "cell_type": "markdown",
   "metadata": {
    "collapsed": true
   },
   "source": [
    "filePath_writing = \"data//new_data.txt\"\n",
    "\n",
    "#method 1: create one string that combines two strings\n",
    "\n",
    "#data_list = []\n",
    "\n",
    "#for article in articles:\n",
    "#   data_list.append(article.print_article())\n",
    "\n",
    "data_list = [article.print_article() for article in articles]  #this is very python style, pretty clean  \n",
    "print(data_list) \n",
    "    \n",
    "output_data = \"\\n\".join(data_list)\n",
    "\n",
    "print(output_data)\n",
    "\n",
    "#method 2: sequentially writing each one, then loop\n",
    "#method 3: writeline method\n",
    "\n",
    "#w can create and write, or override the file; a is open and appending the file\n",
    "with open(filePath_writing, 'w') as f:\n",
    "    f.write(output_data)\n",
    "   \n",
    "with open(filePath_writing, 'w') as f:\n",
    "    for article in articles:\n",
    "        f.write(article.print_article() + '\\n')\n",
    "        \n",
    "with open(filePath_writing, 'w') as f:\n",
    "    f.writelines(data_list)"
   ]
  },
  {
   "cell_type": "markdown",
   "metadata": {
    "collapsed": true
   },
   "source": [
    "import pickle\n",
    "\n",
    "filePath_pickle = \"data//data.pkl\" #the file extension doesn't matter\n",
    "\n",
    "with open(filePath_pickle, 'wb') as f: #wb write binaury\n",
    "    pickle.dump(articles, f)\n",
    "    \n",
    "#dump data \n",
    "#load data "
   ]
  },
  {
   "cell_type": "code",
   "execution_count": 133,
   "metadata": {},
   "outputs": [
    {
     "ename": "IndentationError",
     "evalue": "unindent does not match any outer indentation level (<tokenize>, line 11)",
     "output_type": "error",
     "traceback": [
      "\u001b[0;36m  File \u001b[0;32m\"<tokenize>\"\u001b[0;36m, line \u001b[0;32m11\u001b[0m\n\u001b[0;31m    def __init__(self, i, lines):\u001b[0m\n\u001b[0m    ^\u001b[0m\n\u001b[0;31mIndentationError\u001b[0m\u001b[0;31m:\u001b[0m unindent does not match any outer indentation level\n"
     ]
    }
   ],
   "source": [
    "import csv\n",
    "\n",
    "filePath = 'data//fun.csv'\n",
    "\n",
    "with open(filePath, newline='') as csvfile:\n",
    "    spamreader = csv.reader(csvfile, delimiter=',', quotechar='|')\n",
    "    for row in spamreader:\n",
    "        print(row)\n",
    "#         print('|'.join(row))\n"
   ]
  },
  {
   "cell_type": "code",
   "execution_count": null,
   "metadata": {
    "collapsed": true
   },
   "outputs": [],
   "source": []
  },
  {
   "cell_type": "code",
   "execution_count": null,
   "metadata": {
    "collapsed": true
   },
   "outputs": [],
   "source": []
  },
  {
   "cell_type": "code",
   "execution_count": null,
   "metadata": {
    "collapsed": true
   },
   "outputs": [],
   "source": []
  }
 ],
 "metadata": {
  "kernelspec": {
   "display_name": "Python 3",
   "language": "python",
   "name": "python3"
  },
  "language_info": {
   "codemirror_mode": {
    "name": "ipython",
    "version": 3
   },
   "file_extension": ".py",
   "mimetype": "text/x-python",
   "name": "python",
   "nbconvert_exporter": "python",
   "pygments_lexer": "ipython3",
   "version": "3.6.1"
  }
 },
 "nbformat": 4,
 "nbformat_minor": 2
}
